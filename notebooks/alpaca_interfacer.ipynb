{
 "cells": [
  {
   "cell_type": "code",
   "execution_count": 1,
   "metadata": {},
   "outputs": [],
   "source": [
    "# add one path up to import from main.py and the .env\n",
    "import sys\n",
    "import os\n",
    "from dotenv import load_dotenv\n",
    "\n",
    "\n",
    "sys.path.append(\"..\")\n",
    "load_dotenv()\n",
    "\n",
    "\n",
    "from alpacaInterfacer import alpaca_interfacer"
   ]
  },
  {
   "cell_type": "code",
   "execution_count": 2,
   "metadata": {},
   "outputs": [],
   "source": [
    "ai = alpaca_interfacer()"
   ]
  },
  {
   "cell_type": "code",
   "execution_count": null,
   "metadata": {},
   "outputs": [],
   "source": [
    "resp = ai.buy_random_stock()\n",
    "resp"
   ]
  },
  {
   "cell_type": "code",
   "execution_count": 10,
   "metadata": {},
   "outputs": [
    {
     "name": "stderr",
     "output_type": "stream",
     "text": [
      "{\"message\": \"Failed to sell GIA: {\\\"available\\\":\\\"2\\\",\\\"code\\\":40310000,\\\"existing_qty\\\":\\\"431\\\",\\\"held_for_orders\\\":\\\"429\\\",\\\"message\\\":\\\"insufficient qty available for order (requested: 3, available: 2)\\\",\\\"related_orders\\\":[\\\"fe04f229-ec52-449f-b44f-2881a9096da6\\\",\\\"7d27136e-20a2-4622-a769-6b3b0c6cbee8\\\",\\\"8882b0f5-4969-4653-882a-76454b5eb95d\\\",\\\"3ffb2dfb-bb00-46bd-89bf-8da99a249870\\\"],\\\"symbol\\\":\\\"GIA\\\"}\",\"severity\": \"ERROR\", \"logging.googleapis.com/labels\": {\"python_logger\": \"cloudLogger\"}, \"logging.googleapis.com/trace\": \"\", \"logging.googleapis.com/spanId\": \"\", \"logging.googleapis.com/trace_sampled\": false, \"logging.googleapis.com/sourceLocation\": {\"line\": 113, \"file\": \"/Users/johnramsey/Documents/GitHub/alpaca-trading-shortcut/notebooks/../alpacaInterfacer/__init__.py\", \"function\": \"sell_random_stock\"}, \"httpRequest\": {} }\n"
     ]
    },
    {
     "data": {
      "text/plain": [
       "'No positions to sell'"
      ]
     },
     "execution_count": 10,
     "metadata": {},
     "output_type": "execute_result"
    }
   ],
   "source": [
    "resp = ai.sell_random_stock()\n",
    "resp"
   ]
  }
 ],
 "metadata": {
  "kernelspec": {
   "display_name": ".venv",
   "language": "python",
   "name": "python3"
  },
  "language_info": {
   "codemirror_mode": {
    "name": "ipython",
    "version": 3
   },
   "file_extension": ".py",
   "mimetype": "text/x-python",
   "name": "python",
   "nbconvert_exporter": "python",
   "pygments_lexer": "ipython3",
   "version": "3.11.5"
  },
  "orig_nbformat": 4
 },
 "nbformat": 4,
 "nbformat_minor": 2
}
