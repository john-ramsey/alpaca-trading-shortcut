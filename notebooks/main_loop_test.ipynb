{
 "cells": [
  {
   "cell_type": "code",
   "execution_count": 1,
   "metadata": {},
   "outputs": [],
   "source": [
    "# add one path up to import from main.py and the .env\n",
    "import sys\n",
    "import os\n",
    "from dotenv import load_dotenv\n",
    "\n",
    "\n",
    "sys.path.append(\"..\")\n",
    "load_dotenv()\n",
    "\n",
    "from main import button_press\n",
    "\n",
    "\n",
    "header = {\"Authorization\": \"Bearer \" + os.getenv(\"secret_key\")}\n",
    "\n",
    "\n",
    "class Request:\n",
    "    def __init__(self, headers):\n",
    "        self.headers = headers"
   ]
  },
  {
   "cell_type": "code",
   "execution_count": 2,
   "metadata": {},
   "outputs": [
    {
     "name": "stdout",
     "output_type": "stream",
     "text": [
      "{'message': 'BOUGHT 91 shares of Albany International Corp Class A (AIN) at 86.07 each'}\n"
     ]
    }
   ],
   "source": [
    "print(button_press(request=Request(header)))"
   ]
  }
 ],
 "metadata": {
  "kernelspec": {
   "display_name": ".venv",
   "language": "python",
   "name": "python3"
  },
  "language_info": {
   "codemirror_mode": {
    "name": "ipython",
    "version": 3
   },
   "file_extension": ".py",
   "mimetype": "text/x-python",
   "name": "python",
   "nbconvert_exporter": "python",
   "pygments_lexer": "ipython3",
   "version": "3.11.5"
  },
  "orig_nbformat": 4
 },
 "nbformat": 4,
 "nbformat_minor": 2
}
